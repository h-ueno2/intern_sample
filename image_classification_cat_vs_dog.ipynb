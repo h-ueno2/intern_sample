{
  "nbformat": 4,
  "nbformat_minor": 0,
  "metadata": {
    "colab": {
      "name": "image_classification_cat_vs_dog.ipynb",
      "provenance": [],
      "collapsed_sections": [],
      "authorship_tag": "ABX9TyPTXFAWR1cL5c235LmX3OIj",
      "include_colab_link": true
    },
    "kernelspec": {
      "name": "python3",
      "display_name": "Python 3"
    },
    "language_info": {
      "name": "python"
    },
    "accelerator": "GPU"
  },
  "cells": [
    {
      "cell_type": "markdown",
      "metadata": {
        "id": "view-in-github",
        "colab_type": "text"
      },
      "source": [
        "<a href=\"https://colab.research.google.com/github/h-ueno2/intern_sample/blob/main/image_classification_cat_vs_dog.ipynb\" target=\"_parent\"><img src=\"https://colab.research.google.com/assets/colab-badge.svg\" alt=\"Open In Colab\"/></a>"
      ]
    },
    {
      "cell_type": "markdown",
      "metadata": {
        "id": "znt_cIEMuW8_"
      },
      "source": [
        "# ディープラーニングを使用した画像分類の実例\n",
        "ディープラーニングを用いて画像の分類を行います。  \n",
        "今回は画像分類のチュートリアルにて猫と犬の画像の分類を実践してみます。\n",
        "\n",
        "\n",
        "## ライブラリのインポート\n",
        "Pythonにおけるディープラーニングのライブラリとしては以下が有名です。\n",
        "- TensorFlow および Keras\n",
        "- PyTorch\n",
        "\n",
        "今回の例ではTensorFlowおよびKerasを使用してみましょう。"
      ]
    },
    {
      "cell_type": "code",
      "metadata": {
        "id": "2bGSN9vmuWWH"
      },
      "source": [
        "import os\n",
        "import numpy as np\n",
        "import pandas as pd\n",
        "%matplotlib inline\n",
        "import matplotlib.pyplot as plt\n",
        "from PIL import Image\n",
        "\n",
        "import tensorflow as tf\n",
        "from tensorflow.keras import utils as np_utils\n",
        "from tensorflow.keras.preprocessing import image_dataset_from_directory\n",
        "from tensorflow.keras.layers import Input, Dense, Conv2D, Flatten, Dropout, MaxPooling2D"
      ],
      "execution_count": 3,
      "outputs": []
    },
    {
      "cell_type": "markdown",
      "metadata": {
        "id": "sWnmC07rOTQx"
      },
      "source": [
        "## データの取得\n",
        "今回使用するデータを取得します。  "
      ]
    },
    {
      "cell_type": "code",
      "metadata": {
        "id": "ObxCdaSlOS3R"
      },
      "source": [
        "_URL = 'https://storage.googleapis.com/mledu-datasets/cats_and_dogs_filtered.zip'\n",
        "\n",
        "path_to_zip = tf.keras.utils.get_file('cats_and_dogs.zip', origin=_URL, extract=True)\n",
        "PATH = os.path.join(os.path.dirname(path_to_zip), 'cats_and_dogs_filtered')\n",
        "\n",
        "train_dir = os.path.join(PATH, 'train')\n",
        "validation_dir = os.path.join(PATH, 'validation')\n",
        "\n",
        "train_cats_dir = os.path.join(train_dir, 'cats')  # 学習用の猫画像のディレクトリ\n",
        "train_dogs_dir = os.path.join(train_dir, 'dogs')  # 学習用の犬画像のディレクトリ\n",
        "validation_cats_dir = os.path.join(validation_dir, 'cats')  # 検証用の猫画像のディレクトリ\n",
        "validation_dogs_dir = os.path.join(validation_dir, 'dogs')  # 検証用の犬画像のディレクトリ"
      ],
      "execution_count": 4,
      "outputs": []
    },
    {
      "cell_type": "markdown",
      "metadata": {
        "id": "CuG0fGjYOmyZ"
      },
      "source": [
        "犬と猫の画像はそれぞれ`train`という学習用の画像セットと`validation`という検証用の画像のセットに分類されています。  \n",
        "では、それぞれの画像の数を確認してみましょう。"
      ]
    },
    {
      "cell_type": "code",
      "metadata": {
        "colab": {
          "base_uri": "https://localhost:8080/"
        },
        "id": "uyWPvNIEOsg5",
        "outputId": "6a63bb35-6cd9-4668-8610-798b892feea5"
      },
      "source": [
        "num_cats_tr = len(os.listdir(train_cats_dir))\n",
        "num_dogs_tr = len(os.listdir(train_dogs_dir))\n",
        "\n",
        "num_cats_val = len(os.listdir(validation_cats_dir))\n",
        "num_dogs_val = len(os.listdir(validation_dogs_dir))\n",
        "\n",
        "total_train = num_cats_tr + num_dogs_tr\n",
        "total_val = num_cats_val + num_dogs_val\n",
        "\n",
        "print('total training cat images:', num_cats_tr)\n",
        "print('total training dog images:', num_dogs_tr)\n",
        "\n",
        "print('total validation cat images:', num_cats_val)\n",
        "print('total validation dog images:', num_dogs_val)\n",
        "print(\"--\")\n",
        "print(\"Total training images:\", total_train)\n",
        "print(\"Total validation images:\", total_val)"
      ],
      "execution_count": 5,
      "outputs": [
        {
          "output_type": "stream",
          "name": "stdout",
          "text": [
            "total training cat images: 1000\n",
            "total training dog images: 1000\n",
            "total validation cat images: 500\n",
            "total validation dog images: 500\n",
            "--\n",
            "Total training images: 2000\n",
            "Total validation images: 1000\n"
          ]
        }
      ]
    },
    {
      "cell_type": "markdown",
      "metadata": {
        "id": "xEQTcj40PeUg"
      },
      "source": [
        "一旦ここで、この後に使用するネットワークの学習用の定数を設定しておきます。"
      ]
    },
    {
      "cell_type": "code",
      "metadata": {
        "id": "m-q8qT_JPdDg"
      },
      "source": [
        "BATCH_SIZE = 128\n",
        "epochs = 10\n",
        "IMG_SIZE = (160, 160)\n",
        "IMG_SHAPE = IMG_SIZE + (3,)"
      ],
      "execution_count": 6,
      "outputs": []
    },
    {
      "cell_type": "markdown",
      "metadata": {
        "id": "fbxmBAATPbuw"
      },
      "source": [
        "# データの準備\n"
      ]
    },
    {
      "cell_type": "code",
      "metadata": {
        "colab": {
          "base_uri": "https://localhost:8080/"
        },
        "id": "L9JgSBR6PuTg",
        "outputId": "c31195f9-e124-48b0-b187-d03a0bc87bc9"
      },
      "source": [
        "# 教師データ\n",
        "train_dataset = image_dataset_from_directory(train_dir,\n",
        "                                             shuffle=True,\n",
        "                                             batch_size=BATCH_SIZE,\n",
        "                                             image_size=IMG_SIZE)\n",
        "# 検証データ\n",
        "validation_dataset = image_dataset_from_directory(validation_dir,\n",
        "                                                  shuffle=True,\n",
        "                                                  batch_size=BATCH_SIZE,\n",
        "                                                  image_size=IMG_SIZE)\n",
        "\n",
        "val_batches = tf.data.experimental.cardinality(validation_dataset)\n",
        "test_dataset = validation_dataset.take(val_batches // 5)\n",
        "\n",
        "# テストデータセット\n",
        "validation_dataset = validation_dataset.skip(val_batches // 5)\n",
        "\n",
        "AUTOTUNE = tf.data.AUTOTUNE\n",
        "\n",
        "train_dataset = train_dataset.prefetch(buffer_size=AUTOTUNE)\n",
        "validation_dataset = validation_dataset.prefetch(buffer_size=AUTOTUNE)\n",
        "test_dataset = test_dataset.prefetch(buffer_size=AUTOTUNE)"
      ],
      "execution_count": 7,
      "outputs": [
        {
          "output_type": "stream",
          "name": "stdout",
          "text": [
            "Found 2000 files belonging to 2 classes.\n",
            "Found 1000 files belonging to 2 classes.\n"
          ]
        }
      ]
    },
    {
      "cell_type": "markdown",
      "metadata": {
        "id": "G1MqpvpCRowe"
      },
      "source": [
        "試しに画像を表示してみます。"
      ]
    },
    {
      "cell_type": "code",
      "metadata": {
        "colab": {
          "base_uri": "https://localhost:8080/",
          "height": 247
        },
        "id": "0u_CCBwFRWRm",
        "outputId": "435126f0-eaa4-4b78-b6f4-59cd2cbd243e"
      },
      "source": [
        "class_names = train_dataset.class_names\n",
        "\n",
        "plt.figure(figsize=(10, 10))\n",
        "for images, labels in train_dataset.take(1):\n",
        "  for i in range(9):\n",
        "    ax = plt.subplot(3, 3, i + 1)\n",
        "    plt.imshow(images[i].numpy().astype(\"uint8\"))\n",
        "    plt.title(class_names[labels[i]])\n",
        "    plt.axis(\"off\")"
      ],
      "execution_count": 8,
      "outputs": [
        {
          "output_type": "error",
          "ename": "AttributeError",
          "evalue": "ignored",
          "traceback": [
            "\u001b[0;31m---------------------------------------------------------------------------\u001b[0m",
            "\u001b[0;31mAttributeError\u001b[0m                            Traceback (most recent call last)",
            "\u001b[0;32m<ipython-input-8-e548102f3e16>\u001b[0m in \u001b[0;36m<module>\u001b[0;34m()\u001b[0m\n\u001b[0;32m----> 1\u001b[0;31m \u001b[0mclass_names\u001b[0m \u001b[0;34m=\u001b[0m \u001b[0mtrain_dataset\u001b[0m\u001b[0;34m.\u001b[0m\u001b[0mclass_names\u001b[0m\u001b[0;34m\u001b[0m\u001b[0;34m\u001b[0m\u001b[0m\n\u001b[0m\u001b[1;32m      2\u001b[0m \u001b[0;34m\u001b[0m\u001b[0m\n\u001b[1;32m      3\u001b[0m \u001b[0mplt\u001b[0m\u001b[0;34m.\u001b[0m\u001b[0mfigure\u001b[0m\u001b[0;34m(\u001b[0m\u001b[0mfigsize\u001b[0m\u001b[0;34m=\u001b[0m\u001b[0;34m(\u001b[0m\u001b[0;36m10\u001b[0m\u001b[0;34m,\u001b[0m \u001b[0;36m10\u001b[0m\u001b[0;34m)\u001b[0m\u001b[0;34m)\u001b[0m\u001b[0;34m\u001b[0m\u001b[0;34m\u001b[0m\u001b[0m\n\u001b[1;32m      4\u001b[0m \u001b[0;32mfor\u001b[0m \u001b[0mimages\u001b[0m\u001b[0;34m,\u001b[0m \u001b[0mlabels\u001b[0m \u001b[0;32min\u001b[0m \u001b[0mtrain_dataset\u001b[0m\u001b[0;34m.\u001b[0m\u001b[0mtake\u001b[0m\u001b[0;34m(\u001b[0m\u001b[0;36m1\u001b[0m\u001b[0;34m)\u001b[0m\u001b[0;34m:\u001b[0m\u001b[0;34m\u001b[0m\u001b[0;34m\u001b[0m\u001b[0m\n\u001b[1;32m      5\u001b[0m   \u001b[0;32mfor\u001b[0m \u001b[0mi\u001b[0m \u001b[0;32min\u001b[0m \u001b[0mrange\u001b[0m\u001b[0;34m(\u001b[0m\u001b[0;36m9\u001b[0m\u001b[0;34m)\u001b[0m\u001b[0;34m:\u001b[0m\u001b[0;34m\u001b[0m\u001b[0;34m\u001b[0m\u001b[0m\n",
            "\u001b[0;31mAttributeError\u001b[0m: 'PrefetchDataset' object has no attribute 'class_names'"
          ]
        }
      ]
    },
    {
      "cell_type": "markdown",
      "metadata": {
        "id": "9Hf0MU4A7HQ8"
      },
      "source": [
        "## モデルの作成\n",
        "画像を分類するためのモデルを作成しましょう。"
      ]
    },
    {
      "cell_type": "code",
      "metadata": {
        "colab": {
          "base_uri": "https://localhost:8080/"
        },
        "id": "eGgcKQwA7r1S",
        "outputId": "afcc25a6-e296-4e86-f9e6-dc555e1e9804"
      },
      "source": [
        "def sample_model():\n",
        "    # モデルの構成を定義します。\n",
        "    inputs = Input(shape=IMG_SHAPE)\n",
        "    x = tf.keras.layers.experimental.preprocessing.Rescaling(1./255, offset= -1)(inputs) # データを0-1の範囲に正規化\n",
        "    x = Conv2D(16, 3, padding='same', activation='relu')(x)\n",
        "    x = MaxPooling2D()(x)\n",
        "    x = Conv2D(32, 3, padding='same', activation='relu')(x)\n",
        "    x = MaxPooling2D()(x)\n",
        "    x = Conv2D(64, 3, padding='same', activation='relu')(x)\n",
        "    x = MaxPooling2D()(x)\n",
        "    x = Flatten()(x)\n",
        "    x = Dense(512, activation='relu')(x)\n",
        "    outputs = Dense(1, activation='sigmoid')(x)\n",
        "    model = tf.keras.Model(inputs=inputs, outputs=outputs)\n",
        "\n",
        "    # モデルのコンパイル\n",
        "    model.compile(optimizer='adam',\n",
        "                  loss='binary_crossentropy',\n",
        "                  metrics=['accuracy'])\n",
        "    return model\n",
        "\n",
        "# モデルを作成\n",
        "model = sample_model()\n",
        "\n",
        "# モデルの構造を確認します\n",
        "model.summary()"
      ],
      "execution_count": 69,
      "outputs": [
        {
          "output_type": "stream",
          "name": "stdout",
          "text": [
            "Model: \"model_17\"\n",
            "_________________________________________________________________\n",
            "Layer (type)                 Output Shape              Param #   \n",
            "=================================================================\n",
            "input_25 (InputLayer)        [(None, 160, 160, 3)]     0         \n",
            "_________________________________________________________________\n",
            "rescaling_2 (Rescaling)      (None, 160, 160, 3)       0         \n",
            "_________________________________________________________________\n",
            "conv2d_15 (Conv2D)           (None, 160, 160, 16)      448       \n",
            "_________________________________________________________________\n",
            "max_pooling2d_15 (MaxPooling (None, 80, 80, 16)        0         \n",
            "_________________________________________________________________\n",
            "conv2d_16 (Conv2D)           (None, 80, 80, 32)        4640      \n",
            "_________________________________________________________________\n",
            "max_pooling2d_16 (MaxPooling (None, 40, 40, 32)        0         \n",
            "_________________________________________________________________\n",
            "conv2d_17 (Conv2D)           (None, 40, 40, 64)        18496     \n",
            "_________________________________________________________________\n",
            "max_pooling2d_17 (MaxPooling (None, 20, 20, 64)        0         \n",
            "_________________________________________________________________\n",
            "flatten_5 (Flatten)          (None, 25600)             0         \n",
            "_________________________________________________________________\n",
            "dense_22 (Dense)             (None, 512)               13107712  \n",
            "_________________________________________________________________\n",
            "dense_23 (Dense)             (None, 1)                 513       \n",
            "=================================================================\n",
            "Total params: 13,131,809\n",
            "Trainable params: 13,131,809\n",
            "Non-trainable params: 0\n",
            "_________________________________________________________________\n"
          ]
        }
      ]
    },
    {
      "cell_type": "markdown",
      "metadata": {
        "id": "BAJO3WQr-qrZ"
      },
      "source": [
        "## モデルの学習\n",
        "\n",
        "それでは作成したモデルを学習してみましょう。"
      ]
    },
    {
      "cell_type": "code",
      "metadata": {
        "colab": {
          "base_uri": "https://localhost:8080/"
        },
        "id": "OzlmLyCN-kJI",
        "outputId": "61461a2c-7771-49d2-878e-09294d236265"
      },
      "source": [
        "history = model.fit(train_dataset,\n",
        "                    epochs=epochs,\n",
        "                    validation_data=validation_dataset)"
      ],
      "execution_count": 64,
      "outputs": [
        {
          "output_type": "stream",
          "name": "stdout",
          "text": [
            "Epoch 1/10\n",
            "16/16 [==============================] - 6s 274ms/step - loss: 0.8430 - accuracy: 0.5285 - val_loss: 0.6928 - val_accuracy: 0.5023\n",
            "Epoch 2/10\n",
            "16/16 [==============================] - 5s 263ms/step - loss: 0.6784 - accuracy: 0.5540 - val_loss: 0.6773 - val_accuracy: 0.5390\n",
            "Epoch 3/10\n",
            "16/16 [==============================] - 5s 264ms/step - loss: 0.6433 - accuracy: 0.6465 - val_loss: 0.6286 - val_accuracy: 0.6479\n",
            "Epoch 4/10\n",
            "16/16 [==============================] - 5s 262ms/step - loss: 0.5912 - accuracy: 0.6910 - val_loss: 0.6388 - val_accuracy: 0.5998\n",
            "Epoch 5/10\n",
            "16/16 [==============================] - 5s 263ms/step - loss: 0.5548 - accuracy: 0.7230 - val_loss: 0.5849 - val_accuracy: 0.6812\n",
            "Epoch 6/10\n",
            "16/16 [==============================] - 5s 262ms/step - loss: 0.5029 - accuracy: 0.7590 - val_loss: 0.6224 - val_accuracy: 0.6468\n",
            "Epoch 7/10\n",
            "16/16 [==============================] - 5s 266ms/step - loss: 0.4580 - accuracy: 0.7930 - val_loss: 0.5621 - val_accuracy: 0.7259\n",
            "Epoch 8/10\n",
            "16/16 [==============================] - 5s 267ms/step - loss: 0.4079 - accuracy: 0.8080 - val_loss: 0.6756 - val_accuracy: 0.6743\n",
            "Epoch 9/10\n",
            "16/16 [==============================] - 5s 268ms/step - loss: 0.3709 - accuracy: 0.8355 - val_loss: 0.6174 - val_accuracy: 0.6904\n",
            "Epoch 10/10\n",
            "16/16 [==============================] - 5s 266ms/step - loss: 0.3252 - accuracy: 0.8635 - val_loss: 0.5936 - val_accuracy: 0.7133\n"
          ]
        }
      ]
    },
    {
      "cell_type": "markdown",
      "metadata": {
        "id": "UdN6hCT3Ta2k"
      },
      "source": [
        "学習結果を可視化してみましょう。"
      ]
    },
    {
      "cell_type": "code",
      "metadata": {
        "colab": {
          "base_uri": "https://localhost:8080/",
          "height": 499
        },
        "id": "ROXdXpsHTaTk",
        "outputId": "bbe81bf5-0c5a-4409-b674-432c5a613659"
      },
      "source": [
        "acc = history.history['accuracy']\n",
        "val_acc = history.history['val_accuracy']\n",
        "\n",
        "loss = history.history['loss']\n",
        "val_loss = history.history['val_loss']\n",
        "\n",
        "epochs_range = range(epochs)\n",
        "\n",
        "plt.figure(figsize=(8, 8))\n",
        "plt.subplot(1, 2, 1)\n",
        "plt.plot(epochs_range, acc, label='Training Accuracy')\n",
        "plt.plot(epochs_range, val_acc, label='Validation Accuracy')\n",
        "plt.legend(loc='lower right')\n",
        "plt.title('Training and Validation Accuracy')\n",
        "\n",
        "plt.subplot(1, 2, 2)\n",
        "plt.plot(epochs_range, loss, label='Training Loss')\n",
        "plt.plot(epochs_range, val_loss, label='Validation Loss')\n",
        "plt.legend(loc='upper right')\n",
        "plt.title('Training and Validation Loss')\n",
        "plt.show()"
      ],
      "execution_count": 65,
      "outputs": [
        {
          "output_type": "display_data",
          "data": {
            "image/png": "[encoded data removed]",
            "text/plain": [
              "<Figure size 576x576 with 2 Axes>"
            ]
          },
          "metadata": {
            "needs_background": "light"
          }
        }
      ]
    },
    {
      "cell_type": "markdown",
      "metadata": {
        "id": "d2MWz3DmKtMF"
      },
      "source": [
        "# モデルの転移学習\n",
        "\n",
        "先程のように何もない状態からニューラルネットワークのモデルを構築することは実際の業務ではあまりなく、基本的には公開されている既に構築済み/事前学習済みのモデルをベースとすることが多いです。  \n",
        "\n",
        "今回はVGG19というモデルをImageNetというデータセットで事前学習済みのモデルをベースとし、転移学習しましょう。\n"
      ]
    },
    {
      "cell_type": "code",
      "metadata": {
        "id": "krfT9a9BLbNj"
      },
      "source": [
        "# ベースモデルを用意\n",
        "base_model = tf.keras.applications.MobileNetV2(input_shape=IMG_SHAPE,\n",
        "                                               include_top=False,\n",
        "                                               weights='imagenet')\n",
        "base_model.trainable = False"
      ],
      "execution_count": 11,
      "outputs": []
    },
    {
      "cell_type": "markdown",
      "metadata": {
        "id": "NIA476X9sLCG"
      },
      "source": [
        "## 画像データの準備\n",
        "先程のモデルでは画像のデータに対して1～0の範囲で正規化を行いました。\n",
        "\n",
        "\n",
        "使用するモデルによって、データの範囲が異なります。  \n",
        "使用するライブラリによっては前処理用のメソッドが用意されています。今回はその前処理用のメソッドを利用します。"
      ]
    },
    {
      "cell_type": "code",
      "metadata": {
        "id": "xy4WzWSSsFcI"
      },
      "source": [
        "# モデル用の画像前処理のレイヤーを用意。\n",
        "preprocess_input = tf.keras.applications.mobilenet_v2.preprocess_input"
      ],
      "execution_count": 10,
      "outputs": []
    },
    {
      "cell_type": "markdown",
      "metadata": {
        "id": "cJw1XLBvuzje"
      },
      "source": [
        "## モデルの構築"
      ]
    },
    {
      "cell_type": "code",
      "metadata": {
        "colab": {
          "base_uri": "https://localhost:8080/"
        },
        "id": "jevLeBOLNHfc",
        "outputId": "640c7f37-2523-4e7d-a4a9-8f2a605ef772"
      },
      "source": [
        "def create_model():\n",
        "    # モデルの構成を定義します。\n",
        "    inputs = tf.keras.Input(shape=(160, 160, 3))\n",
        "    x = preprocess_input(inputs)\n",
        "    x = base_model(x, training=False)\n",
        "    x = tf.keras.layers.GlobalAveragePooling2D()(x)\n",
        "    x = tf.keras.layers.Dropout(0.2)(x)\n",
        "    outputs = Dense(1, activation='sigmoid')(x)\n",
        "    model = tf.keras.Model(inputs, outputs)\n",
        "\n",
        "    # モデルのコンパイル\n",
        "    base_learning_rate = 0.0001\n",
        "    model.compile(optimizer=tf.keras.optimizers.Adam(lr=base_learning_rate),\n",
        "                loss=tf.keras.losses.BinaryCrossentropy(from_logits=True),\n",
        "                metrics=['accuracy'])\n",
        "    return model\n",
        "\n",
        "model = create_model()\n",
        "model.summary()"
      ],
      "execution_count": 15,
      "outputs": [
        {
          "output_type": "stream",
          "name": "stdout",
          "text": [
            "Model: \"model\"\n",
            "_________________________________________________________________\n",
            "Layer (type)                 Output Shape              Param #   \n",
            "=================================================================\n",
            "input_5 (InputLayer)         [(None, 160, 160, 3)]     0         \n",
            "_________________________________________________________________\n",
            "tf.math.truediv (TFOpLambda) (None, 160, 160, 3)       0         \n",
            "_________________________________________________________________\n",
            "tf.math.subtract (TFOpLambda (None, 160, 160, 3)       0         \n",
            "_________________________________________________________________\n",
            "mobilenetv2_1.00_160 (Functi (None, 5, 5, 1280)        2257984   \n",
            "_________________________________________________________________\n",
            "global_average_pooling2d (Gl (None, 1280)              0         \n",
            "_________________________________________________________________\n",
            "dropout (Dropout)            (None, 1280)              0         \n",
            "_________________________________________________________________\n",
            "dense (Dense)                (None, 1)                 1281      \n",
            "=================================================================\n",
            "Total params: 2,259,265\n",
            "Trainable params: 1,281\n",
            "Non-trainable params: 2,257,984\n",
            "_________________________________________________________________\n"
          ]
        },
        {
          "output_type": "stream",
          "name": "stderr",
          "text": [
            "/usr/local/lib/python3.7/dist-packages/keras/optimizer_v2/optimizer_v2.py:356: UserWarning: The `lr` argument is deprecated, use `learning_rate` instead.\n",
            "  \"The `lr` argument is deprecated, use `learning_rate` instead.\")\n"
          ]
        }
      ]
    },
    {
      "cell_type": "markdown",
      "metadata": {
        "id": "WqSH1XacU5Ur"
      },
      "source": [
        "ではこのモデルを転移学習してみましょう。"
      ]
    },
    {
      "cell_type": "code",
      "metadata": {
        "colab": {
          "base_uri": "https://localhost:8080/"
        },
        "id": "78IT85wdU8Fq",
        "outputId": "de2932f0-6177-4401-da70-b35b07cb076c"
      },
      "source": [
        "history = model.fit(train_dataset,\n",
        "                    epochs=epochs,\n",
        "                    validation_data=validation_dataset)"
      ],
      "execution_count": 16,
      "outputs": [
        {
          "output_type": "stream",
          "name": "stdout",
          "text": [
            "Epoch 1/10\n"
          ]
        },
        {
          "output_type": "stream",
          "name": "stderr",
          "text": [
            "/usr/local/lib/python3.7/dist-packages/keras/backend.py:4994: UserWarning: \"`binary_crossentropy` received `from_logits=True`, but the `output` argument was produced by a sigmoid or softmax activation and thus does not represent logits. Was this intended?\"\n",
            "  '\"`binary_crossentropy` received `from_logits=True`, but the `output`'\n"
          ]
        },
        {
          "output_type": "stream",
          "name": "stdout",
          "text": [
            "16/16 [==============================] - 16s 587ms/step - loss: 0.9088 - accuracy: 0.4480 - val_loss: 0.8243 - val_accuracy: 0.4599\n",
            "Epoch 2/10\n",
            "16/16 [==============================] - 7s 387ms/step - loss: 0.7970 - accuracy: 0.5015 - val_loss: 0.7139 - val_accuracy: 0.5562\n",
            "Epoch 3/10\n",
            "16/16 [==============================] - 7s 387ms/step - loss: 0.6970 - accuracy: 0.5885 - val_loss: 0.6254 - val_accuracy: 0.6537\n",
            "Epoch 4/10\n",
            "16/16 [==============================] - 7s 393ms/step - loss: 0.6100 - accuracy: 0.6655 - val_loss: 0.5461 - val_accuracy: 0.7443\n",
            "Epoch 5/10\n",
            "16/16 [==============================] - 7s 392ms/step - loss: 0.5354 - accuracy: 0.7380 - val_loss: 0.4789 - val_accuracy: 0.8028\n",
            "Epoch 6/10\n",
            "16/16 [==============================] - 7s 393ms/step - loss: 0.4856 - accuracy: 0.7885 - val_loss: 0.4257 - val_accuracy: 0.8612\n",
            "Epoch 7/10\n",
            "16/16 [==============================] - 7s 388ms/step - loss: 0.4322 - accuracy: 0.8255 - val_loss: 0.3795 - val_accuracy: 0.8876\n",
            "Epoch 8/10\n",
            "16/16 [==============================] - 7s 388ms/step - loss: 0.3934 - accuracy: 0.8600 - val_loss: 0.3462 - val_accuracy: 0.9071\n",
            "Epoch 9/10\n",
            "16/16 [==============================] - 7s 385ms/step - loss: 0.3538 - accuracy: 0.8840 - val_loss: 0.3118 - val_accuracy: 0.9220\n",
            "Epoch 10/10\n",
            "16/16 [==============================] - 7s 393ms/step - loss: 0.3302 - accuracy: 0.8970 - val_loss: 0.2849 - val_accuracy: 0.9358\n"
          ]
        }
      ]
    },
    {
      "cell_type": "code",
      "metadata": {
        "colab": {
          "base_uri": "https://localhost:8080/",
          "height": 499
        },
        "id": "uWfVmXzTU-Yj",
        "outputId": "d2560c30-8fa5-4e4d-c8b0-7cde6762c906"
      },
      "source": [
        "acc = history.history['accuracy']\n",
        "val_acc = history.history['val_accuracy']\n",
        "\n",
        "loss = history.history['loss']\n",
        "val_loss = history.history['val_loss']\n",
        "\n",
        "epochs_range = range(epochs)\n",
        "\n",
        "plt.figure(figsize=(8, 8))\n",
        "plt.subplot(1, 2, 1)\n",
        "plt.plot(epochs_range, acc, label='Training Accuracy')\n",
        "plt.plot(epochs_range, val_acc, label='Validation Accuracy')\n",
        "plt.legend(loc='lower right')\n",
        "plt.title('Training and Validation Accuracy')\n",
        "\n",
        "plt.subplot(1, 2, 2)\n",
        "plt.plot(epochs_range, loss, label='Training Loss')\n",
        "plt.plot(epochs_range, val_loss, label='Validation Loss')\n",
        "plt.legend(loc='upper right')\n",
        "plt.title('Training and Validation Loss')\n",
        "plt.show()"
      ],
      "execution_count": 17,
      "outputs": [
        {
          "output_type": "display_data",
          "data": {
            "image/png": "[encoded data removed]",
            "text/plain": [
              "<Figure size 576x576 with 2 Axes>"
            ]
          },
          "metadata": {
            "needs_background": "light"
          }
        }
      ]
    }
  ]
}