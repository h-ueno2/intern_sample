{
  "nbformat": 4,
  "nbformat_minor": 0,
  "metadata": {
    "colab": {
      "name": "image_classification.ipynb",
      "provenance": [],
      "collapsed_sections": [],
      "toc_visible": true,
      "authorship_tag": "ABX9TyMBWzMsd/rgMXCY+YWV+OQB",
      "include_colab_link": true
    },
    "kernelspec": {
      "name": "python3",
      "display_name": "Python 3"
    },
    "language_info": {
      "name": "python"
    }
  },
  "cells": [
    {
      "cell_type": "markdown",
      "metadata": {
        "id": "view-in-github",
        "colab_type": "text"
      },
      "source": [
        "<a href=\"https://colab.research.google.com/github/h-ueno2/intern_sample/blob/main/notebook/image_classification.ipynb\" target=\"_parent\"><img src=\"https://colab.research.google.com/assets/colab-badge.svg\" alt=\"Open In Colab\"/></a>"
      ]
    },
    {
      "cell_type": "markdown",
      "metadata": {
        "id": "znt_cIEMuW8_"
      },
      "source": [
        "# ディープラーニングを使用した画像分類の実例\n",
        "ディープラーニングを用いて画像の分類を行います。  \n",
        "今回は画像分類のチュートリアルにてよく用いられるMNISTという手書き数字画像のデータセットを対象として、実践してみます。\n",
        "\n",
        "\n",
        "## ライブラリのインポート\n",
        "Pythonにおけるディープラーニングのライブラリとしては以下が有名です。\n",
        "- TensorFlow および Keras\n",
        "- PyTorch\n",
        "\n",
        "今回の例ではTensorFlowおよびKerasを使用してみましょう。"
      ]
    },
    {
      "cell_type": "code",
      "metadata": {
        "id": "2bGSN9vmuWWH"
      },
      "source": [
        "import numpy as np\n",
        "import pandas as pd\n",
        "%matplotlib inline\n",
        "import matplotlib.pyplot as plt\n",
        "from PIL import Image\n",
        "\n",
        "import tensorflow as tf\n",
        "from tensorflow.keras import utils as np_utils\n",
        "from keras.datasets import mnist\n",
        "from keras.layers import Input, Dense, Flatten"
      ],
      "execution_count": 1,
      "outputs": []
    },
    {
      "cell_type": "markdown",
      "metadata": {
        "id": "JE4COUGWwR_t"
      },
      "source": [
        "## データセットの取得\n",
        "今回使用するデータを取得します。  \n",
        "MNISTはよく使用されるデータセットなので、Kerasのライブラリの中に含まれています。  \n",
        "\n",
        "データは以下の4種類で取得できます。\n",
        "\n",
        "|変数名|説明|\n",
        "|---|---|\n",
        "|x_train|モデルの学習の際に使用します。学習を行う画像のデータです。|\n",
        "|y_train|モデルの学習の際に使用します。学習を行う画像に対する正解のラベルになります。|\n",
        "|x_test|学習後のモデルの評価に使用します。テストとして推測する問題となる画像のデータです。|\n",
        "|y_test|学習後のモデルの評価に使用します。テスト用画像の正解ラベルになります。|\n",
        "\n"
      ]
    },
    {
      "cell_type": "code",
      "metadata": {
        "colab": {
          "base_uri": "https://localhost:8080/"
        },
        "id": "2JxoRyMLuR-1",
        "outputId": "426cd610-e925-4402-f4b2-e33ceee99805"
      },
      "source": [
        "# MNISTのデータを取得します。\n",
        "(x_train, y_train), (x_test, y_test) = mnist.load_data()\n",
        "\n",
        "# データ数などを確認\n",
        "print('学習時の教師データ=======')\n",
        "print('x_train: ', x_train.shape)\n",
        "print('y_train: ', y_train.shape)\n",
        "print('学習後のテストデータ=======')\n",
        "print('x_test:  ', x_test.shape)\n",
        "print('y_test:  ', y_test.shape)"
      ],
      "execution_count": 2,
      "outputs": [
        {
          "output_type": "stream",
          "name": "stdout",
          "text": [
            "Downloading data from https://storage.googleapis.com/tensorflow/tf-keras-datasets/mnist.npz\n",
            "11493376/11490434 [==============================] - 0s 0us/step\n",
            "11501568/11490434 [==============================] - 0s 0us/step\n",
            "学習時の教師データ=======\n",
            "x_train:  (60000, 28, 28)\n",
            "y_train:  (60000,)\n",
            "学習後のテストデータ=======\n",
            "x_test:   (10000, 28, 28)\n",
            "y_test:   (10000,)\n"
          ]
        }
      ]
    },
    {
      "cell_type": "markdown",
      "metadata": {
        "id": "xdcCphtGy0dr"
      },
      "source": [
        "画像データである`x_train`, `x_test`を確認すると、`(60000, 28, 28)`という出力がされています。  \n",
        "これは、28x28サイズの画像が60000枚あるという事を意味しています。\n",
        "\n",
        "また、`y_train`, `y_test`には各画像が何を表しているかという正解のラベルが格納されています。\n",
        "\n",
        "実際に何枚か表示してみましょう。"
      ]
    },
    {
      "cell_type": "code",
      "metadata": {
        "colab": {
          "base_uri": "https://localhost:8080/",
          "height": 243
        },
        "id": "OcPlxjVzywYz",
        "outputId": "2b5372cc-baa0-470c-dcd6-5eccf9e3dee8"
      },
      "source": [
        "fig, ax = plt.subplots(1, 5, figsize=(20, 5))\n",
        "for idx, (image, label) in enumerate(zip(x_train[:5], y_train[:5])):\n",
        "    ax[idx].imshow(image)\n",
        "    ax[idx].get_xaxis().set_visible(False)\n",
        "    ax[idx].get_yaxis().set_visible(False)\n",
        "    ax[idx].set_title('x_train[{}], y_train[{}]={}'.format(idx, idx, label))"
      ],
      "execution_count": 3,
      "outputs": [
        {
          "output_type": "display_data",
          "data": {
            "image/png": "[encoded data removed]",
            "text/plain": [
              "<Figure size 1440x360 with 5 Axes>"
            ]
          },
          "metadata": {
            "needs_background": "light"
          }
        }
      ]
    },
    {
      "cell_type": "markdown",
      "metadata": {
        "id": "Xh0FCaK3DMTE"
      },
      "source": [
        "ちょっと今回の時間で行うにはデータが多すぎるので減らします。"
      ]
    },
    {
      "cell_type": "code",
      "metadata": {
        "colab": {
          "base_uri": "https://localhost:8080/"
        },
        "id": "anBX0Y7EDLKt",
        "outputId": "e1600f0c-d3b3-4926-fe09-ca412b0ef8f5"
      },
      "source": [
        "# ちょっと多すぎるので減らします。\n",
        "train_size = 1000\n",
        "test_size = 100\n",
        "x_train, y_train = x_train[:train_size], y_train[:train_size]\n",
        "x_test, y_test = x_test[:test_size], y_test[:test_size]\n",
        "print('学習時の教師データ=======')\n",
        "print('x_train: ', x_train.shape)\n",
        "print('y_train: ', y_train.shape)\n",
        "print('学習後のテストデータ=======')\n",
        "print('x_test:  ', x_test.shape)\n",
        "print('y_test:  ', y_test.shape)"
      ],
      "execution_count": 4,
      "outputs": [
        {
          "output_type": "stream",
          "name": "stdout",
          "text": [
            "学習時の教師データ=======\n",
            "x_train:  (1000, 28, 28)\n",
            "y_train:  (1000,)\n",
            "学習後のテストデータ=======\n",
            "x_test:   (100, 28, 28)\n",
            "y_test:   (100,)\n"
          ]
        }
      ]
    },
    {
      "cell_type": "markdown",
      "metadata": {
        "id": "9Hf0MU4A7HQ8"
      },
      "source": [
        "## モデルの作成\n",
        "画像を分類するためのモデルを作成しましょう。\n",
        "\n",
        "まずはモデルの作成に必要な定数を定義します。"
      ]
    },
    {
      "cell_type": "code",
      "metadata": {
        "id": "HYcKQxul0esy"
      },
      "source": [
        "# 分類するクラス数\n",
        "num_classes = 10\n",
        "\n",
        "# 画像のサイズ\n",
        "input_shape = x_train.shape[1:]"
      ],
      "execution_count": 5,
      "outputs": []
    },
    {
      "cell_type": "markdown",
      "metadata": {
        "id": "4rd9TJHC7iD7"
      },
      "source": [
        "モデルを作成します。  \n",
        "今回は全結合層という層が2層の単純なネットワークを作成します。"
      ]
    },
    {
      "cell_type": "code",
      "metadata": {
        "colab": {
          "base_uri": "https://localhost:8080/"
        },
        "id": "eGgcKQwA7r1S",
        "outputId": "dbac6f7c-7309-4082-d005-13ccd30527a3"
      },
      "source": [
        "def sample_model():\n",
        "    # モデルの構成を定義します。\n",
        "    inputs = Input(input_shape)\n",
        "    x = tf.keras.layers.Lambda(lambda image: image/255.0)(inputs) # 入力画像を扱いやすいように1～0の範囲で正規化します\n",
        "    x = Flatten(input_shape=input_shape)(x) # 28x28の配列を784の配列にします。\n",
        "    x = Dense(128, activation='relu')(x) # 1つ目の全結合層\n",
        "    outputs = Dense(num_classes, activation='softmax')(x)  # 2つ目の全結合層\n",
        "    model = tf.keras.Model(inputs=inputs, outputs=outputs)\n",
        "\n",
        "    # モデルのコンパイル\n",
        "    model.compile(optimizer=tf.keras.optimizers.Adam(),\n",
        "              loss=tf.keras.losses.SparseCategoricalCrossentropy(from_logits=True),\n",
        "              metrics=['accuracy'])\n",
        "\n",
        "    return model\n",
        "\n",
        "# モデルを作成\n",
        "model = sample_model()\n",
        "\n",
        "# モデルの構造を確認します\n",
        "model.summary()"
      ],
      "execution_count": 6,
      "outputs": [
        {
          "output_type": "stream",
          "name": "stdout",
          "text": [
            "Model: \"model\"\n",
            "_________________________________________________________________\n",
            "Layer (type)                 Output Shape              Param #   \n",
            "=================================================================\n",
            "input_1 (InputLayer)         [(None, 28, 28)]          0         \n",
            "_________________________________________________________________\n",
            "lambda (Lambda)              (None, 28, 28)            0         \n",
            "_________________________________________________________________\n",
            "flatten (Flatten)            (None, 784)               0         \n",
            "_________________________________________________________________\n",
            "dense (Dense)                (None, 128)               100480    \n",
            "_________________________________________________________________\n",
            "dense_1 (Dense)              (None, 10)                1290      \n",
            "=================================================================\n",
            "Total params: 101,770\n",
            "Trainable params: 101,770\n",
            "Non-trainable params: 0\n",
            "_________________________________________________________________\n"
          ]
        }
      ]
    },
    {
      "cell_type": "markdown",
      "metadata": {
        "id": "BAJO3WQr-qrZ"
      },
      "source": [
        "## モデルの学習\n",
        "\n",
        "それでは作成したモデルを学習してみましょう。"
      ]
    },
    {
      "cell_type": "code",
      "metadata": {
        "colab": {
          "base_uri": "https://localhost:8080/",
          "height": 521
        },
        "id": "OzlmLyCN-kJI",
        "outputId": "01971863-1533-402d-d22f-dfedea011da9"
      },
      "source": [
        "# ハイパーパラメータ\n",
        "#  モデルの学習時に設定するパラメータです。\n",
        "batch_size = 48\n",
        "epochs = 5\n",
        "\n",
        "# モデルを作成\n",
        "model = sample_model()\n",
        "history = model.fit(\n",
        "    x_train,\n",
        "    y_train,\n",
        "    epochs=epochs,\n",
        "    batch_size=batch_size,\n",
        ")\n",
        "\n",
        "# 学習曲線の表示\n",
        "pd.DataFrame(history.history).plot()"
      ],
      "execution_count": 7,
      "outputs": [
        {
          "output_type": "stream",
          "name": "stdout",
          "text": [
            "Epoch 1/5\n"
          ]
        },
        {
          "output_type": "stream",
          "name": "stderr",
          "text": [
            "/usr/local/lib/python3.7/dist-packages/keras/backend.py:4907: UserWarning: \"`sparse_categorical_crossentropy` received `from_logits=True`, but the `output` argument was produced by a sigmoid or softmax activation and thus does not represent logits. Was this intended?\"\n",
            "  '\"`sparse_categorical_crossentropy` received `from_logits=True`, but '\n"
          ]
        },
        {
          "output_type": "stream",
          "name": "stdout",
          "text": [
            "21/21 [==============================] - 1s 4ms/step - loss: 1.6527 - accuracy: 0.5420\n",
            "Epoch 2/5\n",
            "21/21 [==============================] - 0s 3ms/step - loss: 0.7590 - accuracy: 0.8340\n",
            "Epoch 3/5\n",
            "21/21 [==============================] - 0s 3ms/step - loss: 0.4772 - accuracy: 0.8860\n",
            "Epoch 4/5\n",
            "21/21 [==============================] - 0s 4ms/step - loss: 0.3682 - accuracy: 0.9100\n",
            "Epoch 5/5\n",
            "21/21 [==============================] - 0s 3ms/step - loss: 0.3008 - accuracy: 0.9270\n"
          ]
        },
        {
          "output_type": "execute_result",
          "data": {
            "text/plain": [
              "<matplotlib.axes._subplots.AxesSubplot at 0x7f35ddb88310>"
            ]
          },
          "metadata": {},
          "execution_count": 7
        },
        {
          "output_type": "display_data",
          "data": {
            "image/png": "[encoded data removed]",
            "text/plain": [
              "<Figure size 432x288 with 1 Axes>"
            ]
          },
          "metadata": {
            "needs_background": "light"
          }
        }
      ]
    },
    {
      "cell_type": "markdown",
      "metadata": {
        "id": "BAsuOho1EDLL"
      },
      "source": [
        "## モデルの評価\n",
        "テストデータを使ってモデルの汎化性能を検証します。  \n",
        "※汎化性能：未知のデータに対してちゃんと予測できるかという性能"
      ]
    },
    {
      "cell_type": "code",
      "metadata": {
        "colab": {
          "base_uri": "https://localhost:8080/"
        },
        "id": "mWmqTLbFHbgZ",
        "outputId": "6e2e8c11-4f5a-40d1-f6d7-18e4c69d70a3"
      },
      "source": [
        "test_loss, test_acc = model.evaluate(x_test, y_test)\n",
        "test_acc"
      ],
      "execution_count": 8,
      "outputs": [
        {
          "output_type": "stream",
          "name": "stdout",
          "text": [
            "4/4 [==============================] - 0s 3ms/step - loss: 0.4336 - accuracy: 0.8500\n"
          ]
        },
        {
          "output_type": "stream",
          "name": "stderr",
          "text": [
            "/usr/local/lib/python3.7/dist-packages/keras/backend.py:4907: UserWarning: \"`sparse_categorical_crossentropy` received `from_logits=True`, but the `output` argument was produced by a sigmoid or softmax activation and thus does not represent logits. Was this intended?\"\n",
            "  '\"`sparse_categorical_crossentropy` received `from_logits=True`, but '\n"
          ]
        },
        {
          "output_type": "execute_result",
          "data": {
            "text/plain": [
              "0.8500000238418579"
            ]
          },
          "metadata": {},
          "execution_count": 8
        }
      ]
    },
    {
      "cell_type": "markdown",
      "metadata": {
        "id": "ePuS5JZAHlr-"
      },
      "source": [
        "## モデルの予測結果を確認\n",
        "モデルに実際に予測させて結果を確認してみます。"
      ]
    },
    {
      "cell_type": "code",
      "metadata": {
        "colab": {
          "base_uri": "https://localhost:8080/"
        },
        "id": "4jNXzDGJDjfU",
        "outputId": "e0366891-8284-427b-b706-2228715a8b06"
      },
      "source": [
        "predict = model.predict(x_test, batch_size=batch_size)\n",
        "predict = predict.argmax(axis=1)\n",
        "\n",
        "print('予測結果の一覧:', predict)"
      ],
      "execution_count": 9,
      "outputs": [
        {
          "output_type": "stream",
          "name": "stdout",
          "text": [
            "予測結果の一覧: [7 2 1 0 4 1 4 9 4 9 0 2 9 0 1 3 9 7 3 4 9 6 4 5 4 0 7 4 0 1 3 1 3 6 7 2 7\n",
            " 1 2 1 1 7 4 2 3 5 3 2 4 4 6 3 5 5 2 0 4 1 9 5 7 2 9 2 7 9 2 4 3 0 7 0 2 7\n",
            " 1 7 3 7 9 7 9 6 2 7 8 4 7 5 6 1 3 6 9 3 1 4 1 7 6 9]\n"
          ]
        }
      ]
    },
    {
      "cell_type": "code",
      "metadata": {
        "colab": {
          "base_uri": "https://localhost:8080/",
          "height": 243
        },
        "id": "UEQMPoxJH2-Z",
        "outputId": "d901aab5-f411-4f35-9580-a1eeaf81ac5d"
      },
      "source": [
        "# 5枚程試しに表示\n",
        "fig, ax = plt.subplots(1, 5, figsize=(20, 5))\n",
        "for idx, (image, y, pred) in enumerate(zip(x_test[:5], y_test[:5], predict[:5])):\n",
        "    ax[idx].imshow(image)\n",
        "    ax[idx].get_xaxis().set_visible(False)\n",
        "    ax[idx].get_yaxis().set_visible(False)\n",
        "    ax[idx].set_title('y is {}, predict is {}'.format(y, pred))"
      ],
      "execution_count": 10,
      "outputs": [
        {
          "output_type": "display_data",
          "data": {
            "image/png": "[encoded data removed]",
            "text/plain": [
              "<Figure size 1440x360 with 5 Axes>"
            ]
          },
          "metadata": {
            "needs_background": "light"
          }
        }
      ]
    },
    {
      "cell_type": "markdown",
      "metadata": {
        "id": "3SYmeYiEInxR"
      },
      "source": [
        "間違えた画像を見てみましょう。"
      ]
    },
    {
      "cell_type": "code",
      "metadata": {
        "id": "xd97B1uTDx5M",
        "colab": {
          "base_uri": "https://localhost:8080/",
          "height": 818
        },
        "outputId": "e9ff06df-eed3-429b-bd9b-1720d3937cd0"
      },
      "source": [
        "def show_mistake_image(images, labels, predict):    \n",
        "    # 間違えた画像をリスト化\n",
        "    mistake_list = []\n",
        "    for image, y, pred in zip(images, labels, predict):\n",
        "        if y != pred:\n",
        "            mistake_list.append({\n",
        "                'y': y,\n",
        "                'pred': pred,\n",
        "                'image': image\n",
        "            })\n",
        "\n",
        "    # 画像の一覧を表示\n",
        "    rows = int((len(mistake_list)-1)/5)+1\n",
        "    fig, ax = plt.subplots(rows, 5, figsize=(20, rows*5))\n",
        "    for idx, mistake in enumerate(mistake_list):\n",
        "        col = idx % 5\n",
        "        row = int(idx/5)\n",
        "\n",
        "        ax[row][col].imshow(mistake['image'])\n",
        "        ax[row][col].get_xaxis().set_visible(False)\n",
        "        ax[row][col].get_yaxis().set_visible(False)\n",
        "        ax[row][col].set_title('y is {}, but predict is {}'.format(mistake['y'], mistake['pred']))\n",
        "\n",
        "show_mistake_image(x_test, y_test, predict)"
      ],
      "execution_count": 26,
      "outputs": [
        {
          "output_type": "display_data",
          "data": {
            "image/png": "[encoded data removed]",
            "text/plain": [
              "<Figure size 1440x1080 with 15 Axes>"
            ]
          },
          "metadata": {
            "needs_background": "light"
          }
        }
      ]
    }
  ]
}