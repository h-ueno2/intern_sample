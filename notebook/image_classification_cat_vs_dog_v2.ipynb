{
  "nbformat": 4,
  "nbformat_minor": 0,
  "metadata": {
    "colab": {
      "name": "image_classification_cat_vs_dog_v2.ipynb",
      "provenance": [],
      "collapsed_sections": [],
      "authorship_tag": "ABX9TyPtmgYqQR+k/19nAQy2Ygj4",
      "include_colab_link": true
    },
    "kernelspec": {
      "name": "python3",
      "display_name": "Python 3"
    },
    "language_info": {
      "name": "python"
    },
    "accelerator": "GPU"
  },
  "cells": [
    {
      "cell_type": "markdown",
      "metadata": {
        "id": "view-in-github",
        "colab_type": "text"
      },
      "source": [
        "<a href=\"https://colab.research.google.com/github/h-ueno2/intern_sample/blob/main/notebook/image_classification_cat_vs_dog_v2.ipynb\" target=\"_parent\"><img src=\"https://colab.research.google.com/assets/colab-badge.svg\" alt=\"Open In Colab\"/></a>"
      ]
    },
    {
      "cell_type": "markdown",
      "metadata": {
        "id": "znt_cIEMuW8_"
      },
      "source": [
        "# ディープラーニングを使用した画像分類の実例\n",
        "\n",
        "**実際に、教師あり学習である画像分類を実践してみましょう！**\n",
        "\n",
        "今回はディープラーニングを用いて画像の分類を行います。  \n",
        "テーマとしては画像分類の例としてよく扱われている猫と犬の画像を分類してみます。\n",
        "\n",
        "<img src=\"https://drive.google.com/uc?export=view&\n",
        "id=1945U_cs0jH9Hs0cLUQzCjMb5ACUZTGgH\" width=80%>\n"
      ]
    },
    {
      "cell_type": "markdown",
      "metadata": {
        "id": "ZEvtEAcNMWcL"
      },
      "source": [
        "# Google Colabについて\n",
        "\n",
        "今開いている画面は**Google Colab (Google Colaboratory)**というGoogleが提供しているPythonを実行できるサービスです。  \n",
        "ここでは、面倒な環境構築をすることなくPythonを試すことができます。  \n",
        "また、機械学習を効率的に行うためのGPUを基本無料で使用することができます。  \n",
        "※1日の使用上限はあります。\n",
        "\n",
        "\n",
        "\n",
        "プログラム（コード）の実行も下の画像の通り簡単に行うことができます。\n",
        "\n",
        "\n",
        "<img src=\"https://drive.google.com/uc?export=view&\n",
        "id=1Dvtei8hVnuoFQxoWmtn3fX4Y46ZwK-YK\" width=80%>\n",
        "\n",
        "試しに下のセルを実行してみましょう！"
      ]
    },
    {
      "cell_type": "code",
      "metadata": {
        "id": "IvlNHELuN0f6"
      },
      "source": [
        "print(\"Hello world\")\n",
        "\n",
        "x = 1 + 1\n",
        "print(\"x = \", x)"
      ],
      "execution_count": null,
      "outputs": []
    },
    {
      "cell_type": "markdown",
      "metadata": {
        "id": "SM1fBTbTMTDa"
      },
      "source": [
        "\n",
        "# ライブラリのインポート\n",
        "\n",
        "プログラムは一から全部自分で作るということはほとんどありません。  \n",
        "基本的には`ライブラリ`という既に実装済みの部品を組み合わせたり設定を変えたりして使用します。\n",
        "\n",
        "\n",
        "Pythonにおけるディープラーニングのライブラリとしては以下が有名です。\n",
        "- TensorFlow\n",
        "- PyTorch\n",
        "\n",
        "今回の例ではTensorFlowを使用します。  \n",
        "\n",
        "では、TensorFlowと必要なその他のライブラリをインポートしましょう。  \n",
        "\n",
        "> **インポート**とは  \n",
        "> ライブラリを自分の作っているプログラムで使用できるように読み込みする事を言います。\n"
      ]
    },
    {
      "cell_type": "code",
      "metadata": {
        "id": "2bGSN9vmuWWH"
      },
      "source": [
        "import os\n",
        "import numpy as np\n",
        "import pandas as pd\n",
        "%matplotlib inline\n",
        "import matplotlib.pyplot as plt\n",
        "import IPython.display as display\n",
        "\n",
        "import tensorflow as tf\n",
        "from tensorflow.keras import utils as np_utils\n",
        "from tensorflow.keras.preprocessing import image_dataset_from_directory\n",
        "from tensorflow.keras.layers import Input, Dense, Conv2D, Flatten, Dropout, MaxPooling2D"
      ],
      "execution_count": null,
      "outputs": []
    },
    {
      "cell_type": "markdown",
      "metadata": {
        "id": "sWnmC07rOTQx"
      },
      "source": [
        "# 画像データの取得\n",
        "今回使用するデータである犬と猫の画像を取得します。  \n",
        "画像データはGoogleが公開している犬と猫の画像が分類済みのデータを使用します。  "
      ]
    },
    {
      "cell_type": "code",
      "metadata": {
        "id": "ObxCdaSlOS3R"
      },
      "source": [
        "_URL = 'https://storage.googleapis.com/mledu-datasets/cats_and_dogs_filtered.zip'\n",
        "\n",
        "# zipファイルをダウンロードします。\n",
        "path_to_zip = tf.keras.utils.get_file('cats_and_dogs.zip', origin=_URL, extract=True)\n",
        "PATH = os.path.join(os.path.dirname(path_to_zip), 'cats_and_dogs_filtered')\n",
        "\n",
        "train_dir = os.path.join(PATH, 'train')\n",
        "validation_dir = os.path.join(PATH, 'validation')\n",
        "\n",
        "train_cats_dir = os.path.join(train_dir, 'cats')  # 学習用の猫画像のディレクトリ\n",
        "train_dogs_dir = os.path.join(train_dir, 'dogs')  # 学習用の犬画像のディレクトリ\n",
        "validation_cats_dir = os.path.join(validation_dir, 'cats')  # 検証用の猫画像のディレクトリ\n",
        "validation_dogs_dir = os.path.join(validation_dir, 'dogs')  # 検証用の犬画像のディレクトリ\n",
        "print(\"==学習用=======\")\n",
        "print(\"　　猫画像のパス：\", train_cats_dir)\n",
        "print(\"　　犬画像のパス：\", train_dogs_dir)\n",
        "print(\"==検証用=======\")\n",
        "print(\"　　猫画像のパス：\", validation_cats_dir)\n",
        "print(\"　　犬画像のパス：\", validation_dogs_dir)"
      ],
      "execution_count": null,
      "outputs": []
    },
    {
      "cell_type": "markdown",
      "metadata": {
        "id": "CuG0fGjYOmyZ"
      },
      "source": [
        "このデータセットは以下のような分類の通りにディレクトリが分けられています。\n",
        "- train : 教師データ。学習に使用するためのデータです。\n",
        "  - cats\n",
        "  - dogs\n",
        "- validation : 検証データ。モデルの学習度合いを検証するためのデータです。\n",
        "  - cats\n",
        "  - dogs\n",
        "\n",
        "では、それぞれの画像の数を確認してみましょう。"
      ]
    },
    {
      "cell_type": "code",
      "metadata": {
        "id": "uyWPvNIEOsg5"
      },
      "source": [
        "num_cats_tr = len(os.listdir(train_cats_dir))\n",
        "num_dogs_tr = len(os.listdir(train_dogs_dir))\n",
        "\n",
        "num_cats_val = len(os.listdir(validation_cats_dir))\n",
        "num_dogs_val = len(os.listdir(validation_dogs_dir))\n",
        "\n",
        "total_train = num_cats_tr + num_dogs_tr\n",
        "total_val = num_cats_val + num_dogs_val\n",
        "\n",
        "print(\"==学習用=======\")\n",
        "print('　　猫画像の数：', num_cats_tr)\n",
        "print('　　犬画像の数：', num_dogs_tr)\n",
        "print(\"==検証用=======\")\n",
        "print('　　猫画像の数', num_cats_val)\n",
        "print('　　犬画像の数：', num_dogs_val)\n",
        "print(\"==合計=======\")\n",
        "print(\"　　猫画像の数\", total_train)\n",
        "print(\"　　犬画像の数\", total_val)"
      ],
      "execution_count": null,
      "outputs": []
    },
    {
      "cell_type": "markdown",
      "metadata": {
        "id": "xEQTcj40PeUg"
      },
      "source": [
        "一旦ここで、この後に使用するネットワークの学習用の定数を設定しておきます。"
      ]
    },
    {
      "cell_type": "code",
      "metadata": {
        "id": "m-q8qT_JPdDg"
      },
      "source": [
        "BATCH_SIZE = 128\n",
        "IMG_SIZE = (160, 160)\n",
        "IMG_SHAPE = IMG_SIZE + (3,)"
      ],
      "execution_count": null,
      "outputs": []
    },
    {
      "cell_type": "markdown",
      "metadata": {
        "id": "fbxmBAATPbuw"
      },
      "source": [
        "# データの準備\n",
        "先ほど取得した画像データを機械学習のプログラム上で扱いやすくするように準備します。  \n",
        "\n",
        "次のセルでは以下のことを行っています。\n",
        "1. 教師データと検証データのデータセットを作成します。\n",
        "2. 検証データの一部について、学習後の精度評価用のテストデータとして抜き出します。\n",
        "\n",
        "> **データセット**  \n",
        "> この場でのデータセットとは、  \n",
        "> データの集まりを機械学習の処理で扱いやすくするために機能を持たせた箱のような物をイメージするとわかりやすいかと思います。  \n",
        "> 例えば以下のような機能があります。\n",
        "> - 決められた数だけ画像を取り出す\n",
        "> - 決められたサイズに画像を縮小する。\n",
        "> - 取り出す画像をランダムにする。"
      ]
    },
    {
      "cell_type": "code",
      "metadata": {
        "id": "L9JgSBR6PuTg"
      },
      "source": [
        "# 教師データのデータセットを定義します。\n",
        "train_dataset = image_dataset_from_directory(train_dir,\n",
        "                                             shuffle=True, # ランダムにする\n",
        "                                             batch_size=BATCH_SIZE, # 一度に処理する画像をBATCH_SIZE分とする。\n",
        "                                             image_size=IMG_SIZE # 取り出すときの画像サイズをIMG_SIZEとする\n",
        "                                            )\n",
        "# 検証データのデータセットを定義します。\n",
        "validation_dataset = image_dataset_from_directory(validation_dir,\n",
        "                                                  shuffle=True,\n",
        "                                                  batch_size=BATCH_SIZE,\n",
        "                                                  image_size=IMG_SIZE)\n",
        "\n",
        "# 検証データの一部をテストデータとして使用します。\n",
        "val_batches = tf.data.experimental.cardinality(validation_dataset)\n",
        "test_dataset = validation_dataset.take(val_batches // 5) # 検証データの1/5をテストデータに。\n",
        "validation_dataset = validation_dataset.skip(val_batches // 5) # 残りを検証データとして再定義"
      ],
      "execution_count": null,
      "outputs": []
    },
    {
      "cell_type": "markdown",
      "metadata": {
        "id": "G1MqpvpCRowe"
      },
      "source": [
        "試しに画像を表示してみます。  \n",
        "教師データのデータセットからランダムに9枚の画像を表示しましょう。"
      ]
    },
    {
      "cell_type": "code",
      "metadata": {
        "id": "0u_CCBwFRWRm"
      },
      "source": [
        "class_names = train_dataset.class_names\n",
        "\n",
        "plt.figure(figsize=(10, 10)) # 画像を表示するエリアを定義します。\n",
        "\n",
        "for images, labels in train_dataset.take(1):\n",
        "    for i in range(9):\n",
        "        ax = plt.subplot(3, 3, i + 1) # 画像の表示位置を設定\n",
        "        plt.imshow(images[i].numpy().astype(\"uint8\")) # 画像を表示\n",
        "        plt.title(class_names[labels[i]]) # 画像のクラス（犬か猫か）を表示\n",
        "        plt.axis(\"off\") # 縦軸と横軸を非表示"
      ],
      "execution_count": null,
      "outputs": []
    },
    {
      "cell_type": "markdown",
      "metadata": {
        "id": "9Hf0MU4A7HQ8"
      },
      "source": [
        "# モデルの作成\n",
        "それでは実際に画像を分類するモデルを作成してみましょう。\n",
        "\n",
        "モデルの作成方法としては、ニューラルネットワークの層を一から定義する方法もありますが、  \n",
        "実際の業務ではオープンソースとして公開されている構築済み/事前に学習済みのモデルをベースとすることが多いです。  \n",
        "例えば、ベースとなったモデルに対し、解きたい問題（今回であれば犬と猫の分類）に合わせて\n",
        "- 入出力を定義し直す。\n",
        "  - 入力される画像サイズを定義する\n",
        "  - 分類の数に合わせて出力する値を定義し直す\n",
        "- 問題のデータで学習し直す\n",
        "\n",
        "というやり方が基本になります。\n",
        "\n",
        "\n",
        "今回は`MobileNetV2`というモデルをベースとして、犬と猫の分類用にモデルを定義しましょう。"
      ]
    },
    {
      "cell_type": "code",
      "metadata": {
        "id": "eGgcKQwA7r1S"
      },
      "source": [
        "def sample_model():\n",
        "    \"\"\"モデルを作成して返却する関数です。\"\"\"\n",
        "\n",
        "    # ベースモデルを用意\n",
        "    base_model = tf.keras.applications.MobileNetV2(input_shape=IMG_SHAPE,\n",
        "                                                   include_top=False,\n",
        "                                                   weights='imagenet')\n",
        "    base_model.trainable = False\n",
        "\n",
        "    # モデル全体の構成を定義します。\n",
        "    inputs = tf.keras.Input(shape=(160, 160, 3)) # 入力部分の定義\n",
        "    x = tf.keras.applications.mobilenet_v2.preprocess_input(inputs) # MobileNetV2用のデータ前処理\n",
        "    x = base_model(x, training=False) # ベースのモデル\n",
        "    x = tf.keras.layers.GlobalAveragePooling2D()(x) \n",
        "    x = tf.keras.layers.Dropout(0.2)(x)\n",
        "    outputs = Dense(1, activation='sigmoid')(x)\n",
        "    model = tf.keras.Model(inputs, outputs)\n",
        "\n",
        "    # モデルのコンパイル\n",
        "    model.compile(optimizer='adam',\n",
        "                  loss='binary_crossentropy',\n",
        "                  metrics=['accuracy'])\n",
        "    return model"
      ],
      "execution_count": null,
      "outputs": []
    },
    {
      "cell_type": "markdown",
      "metadata": {
        "id": "BAJO3WQr-qrZ"
      },
      "source": [
        "# モデルの学習\n",
        "\n",
        "それでは作成したモデルを学習してみましょう。\n",
        "\n",
        "モデルの学習はどのような事をしているかというと、\n",
        "1. 学習データを入力として予測をします。\n",
        "2. 学習データの予測結果と正解を比較し、損失(loss：間違いの度合）を計算します。\n",
        "3. 損失が少なくなるようにモデルの中のパラメータを調整します。\n",
        "4. 1～3を学習データ分繰り返します。\n",
        "\n",
        "上記を学習データ全部に対して実施する事を1エポックといいます。  \n",
        "※5エポックだと全ての学習データを5回使用して学習したという事になります。\n",
        "\n",
        "\n",
        "`TensorFlow`というライブラリを使用した場合、  \n",
        "上記のような学習の処理は`fit`というメソッド（関数）を実行するだけでできてしまいます。便利ですね！"
      ]
    },
    {
      "cell_type": "code",
      "metadata": {
        "id": "OzlmLyCN-kJI"
      },
      "source": [
        "# エポック（学習回数）\n",
        "# ここの数字を変更すると学習回数も変更できます。\n",
        "epochs = 5\n",
        "\n",
        "# モデルを作成\n",
        "model = sample_model()\n",
        "\n",
        "# モデルの学習\n",
        "history = model.fit(train_dataset,\n",
        "                    epochs=epochs,\n",
        "                    validation_data=validation_dataset)"
      ],
      "execution_count": null,
      "outputs": []
    },
    {
      "cell_type": "markdown",
      "metadata": {
        "id": "UdN6hCT3Ta2k"
      },
      "source": [
        "セルを実行すると、進捗のバーと一緒に`loss`や`accuracy`という謎の英単語と数字が表示されました。  \n",
        "これはそれぞれ何かというと、\n",
        "\n",
        "- loss：損失関数。教師データを予測した結果の誤り度合い。0に近いほど良い。\n",
        "- accuracy：精度。教師データを予測した結果の精度。1に近づくほど良い。\n",
        "- val_loss：検証データを予測した結果の損失関数。\n",
        "- val_accuracy：検証データを予測した結果の精度。\n",
        "\n",
        "先ほども触れたようにモデルの学習は教師データの損失関数を小さくするようにパラメータを調整しています。  \n",
        "なので、学習のエポックが進むと`loss`が減少し、`accuracy`も向上していると思います。  \n",
        "\n",
        "\n",
        "ただ、実際に学習したモデルを業務やサービスで使用する本番では、  \n",
        "学習データには存在しない未知のデータに対しての予測を行う必要があります。  \n",
        "未知のデータに対するモデルの性能の事を**汎化性能**と呼びます。\n",
        "\n",
        "汎化性能を測るために、教師データとは別の`検証データ`を使用して損失関数と精度を算出しています。  \n",
        "※これが`val_loss`と`val_accuracy`になります。\n",
        "\n",
        "\n",
        "\n",
        "では、学習結果がどのように推移したのか、わかりやすいようにグラフで可視化してみましょう。\n",
        "\n"
      ]
    },
    {
      "cell_type": "code",
      "metadata": {
        "id": "ROXdXpsHTaTk"
      },
      "source": [
        "acc = history.history['accuracy']\n",
        "val_acc = history.history['val_accuracy']\n",
        "\n",
        "loss = history.history['loss']\n",
        "val_loss = history.history['val_loss']\n",
        "\n",
        "epochs_range = range(epochs)\n",
        "\n",
        "plt.figure(figsize=(8, 8))\n",
        "plt.subplot(1, 2, 1)\n",
        "plt.plot(epochs_range, acc, label='Training Accuracy')\n",
        "plt.plot(epochs_range, val_acc, label='Validation Accuracy')\n",
        "plt.legend(loc='lower right')\n",
        "plt.title('Training and Validation Accuracy')\n",
        "\n",
        "plt.subplot(1, 2, 2)\n",
        "plt.plot(epochs_range, loss, label='Training Loss')\n",
        "plt.plot(epochs_range, val_loss, label='Validation Loss')\n",
        "plt.legend(loc='upper right')\n",
        "plt.title('Training and Validation Loss')\n",
        "plt.show()"
      ],
      "execution_count": null,
      "outputs": []
    },
    {
      "cell_type": "markdown",
      "metadata": {
        "id": "JwXz5Oe0Zc4c"
      },
      "source": [
        "左のグラフが精度、右のグラフが損失を示しています。  \n",
        "横軸がエポックになります。  \n",
        "※グラフで日本語を表示させようとすると色々設定が必要になってしまうのでご了承ください。\n",
        "\n",
        "\n",
        "グラフを見ますとエポックが進むにつれて、教師データ/検証データのどちらも精度は上がり損失が減少している事が確認できるかと思います。\n",
        "\n",
        "\n",
        "では、このままエポックの数を大きくするともっとデータの精度はよくなるでしょうか？  \n",
        "時間が余ったら試してみましょう。\n",
        "\n",
        "\n",
        "\n",
        "# モデルの評価\n",
        "\n",
        "では最終的なモデルの精度を評価してみましょう。\n",
        "\n",
        "モデルの評価を行うには教師データ、検証データとは別に用意していたテストデータセットを使用します。\n",
        "\n",
        "モデルの`evaluate`関数に対してテストデータを渡します。  \n",
        "そうするとテストデータに対して分類予測した結果の精度を算出してくれます。\n"
      ]
    },
    {
      "cell_type": "code",
      "metadata": {
        "id": "FHvZw5a7Zn7T"
      },
      "source": [
        "# test_datasetを使用してmodelの評価をします。\n",
        "loss, accuracy = model.evaluate(test_dataset)\n",
        "print('テストデータセットでの精度 :', accuracy)"
      ],
      "execution_count": null,
      "outputs": []
    },
    {
      "cell_type": "markdown",
      "metadata": {
        "id": "vnp51ONK9Bii"
      },
      "source": [
        "今回はベースのモデルに`MobileNetV2`を使用したこともあり、非常に高い結果になったかと思われます。\n",
        "\n",
        "では実際に予測結果を確認してみましょう。  \n",
        "今回、実際の予測結果は0～1の間の少数として出力されます。  \n",
        "これは\n",
        "- 0に近いと猫\n",
        "- 1に近いと犬\n",
        "\n",
        "という事を表しています。\n",
        "\n",
        "\n",
        "ただ、それだと確認が困難なため、`0.5`を閾値として分類しています。"
      ]
    },
    {
      "cell_type": "code",
      "metadata": {
        "id": "SpURkpLm9xca"
      },
      "source": [
        "# テストデータセットから画像データとラベルを取得\n",
        "image_batch, label_batch = test_dataset.as_numpy_iterator().next()\n",
        "\n",
        "# モデルに画像データを渡して予測をする\n",
        "predictions = model.predict_on_batch(image_batch).flatten()\n",
        "\n",
        "# 予測結果を確認\n",
        "print('予測結果：\\n', predictions)\n",
        "\n",
        "# 0.5を閾値として0と1に分類\n",
        "predictions = tf.where(predictions < 0.5, 0, 1).numpy()\n",
        "\n",
        "# 予測結果を表示\n",
        "print('='*30)\n",
        "print('予測結果:\\n', predictions)\n",
        "print('='*30)\n",
        "print('正解のラベル:\\n', label_batch)"
      ],
      "execution_count": null,
      "outputs": []
    },
    {
      "cell_type": "markdown",
      "metadata": {
        "id": "fcxKITe8_Tnq"
      },
      "source": [
        "数字だけですとイメージが付かないため、試しに画像を表示してみましょう。"
      ]
    },
    {
      "cell_type": "code",
      "metadata": {
        "id": "JwcDDwRZnROj"
      },
      "source": [
        "success = [] # 正解\n",
        "error = [] # 失敗\n",
        "\n",
        "for i in range(len(label_batch)):\n",
        "    result = {\n",
        "        'image': image_batch[i],\n",
        "        'label': label_batch[i],\n",
        "        'pred': predictions[i]\n",
        "    }\n",
        "    if predictions[i] == label_batch[i]:\n",
        "        success.append(result)\n",
        "    else:\n",
        "        error.append(result)\n",
        "\n",
        "# 試しに最大6枚ずつ表示します。\n",
        "plt.figure(figsize=(20,10))\n",
        "print(\"正解した画像\")\n",
        "for i in range(6):\n",
        "    if i >= len(success):\n",
        "        break\n",
        "    ax = plt.subplot(1, 6, i + 1)\n",
        "    plt.imshow(success[i]['image'].astype(\"uint8\"))\n",
        "    plt.title(\"prediciton :\" + class_names[success[i]['pred']])\n",
        "    plt.axis(\"off\")\n",
        "\n",
        "plt.show()\n",
        "plt.figure(figsize=(20,10))\n",
        "print(\"失敗した画像\")\n",
        "for i in range(6):\n",
        "    if i >= len(error):\n",
        "        break\n",
        "    ax = plt.subplot(1, 6, i + 1)\n",
        "    plt.imshow(error[i]['image'].astype(\"uint8\"))\n",
        "    plt.title(\"prediciton : \" + class_names[error[i]['pred']])\n",
        "    plt.axis(\"off\")\n",
        "plt.show()"
      ],
      "execution_count": null,
      "outputs": []
    },
    {
      "cell_type": "markdown",
      "metadata": {
        "id": "8TdyfWeS3mN7"
      },
      "source": [
        "# 好きな画像で試してみよう！\n",
        "\n",
        "試しに好きな画像を用いて予測してみましょう。\n",
        "\n",
        "1. 何か画像ファイルをダウンロードします。\n",
        "2. Google Colaboratoryの画面の左側のメニューよりファイルタブを表示します。\n",
        "3. ダウンロードした画像をファイルタブにドラッグ&ドロップします。  \n",
        "   この時「注: アップロードしたファイルはランタイムのリサイクル時に削除されます。」というメッセージが表示されますが気にせずOKを押してください。\n",
        "\n",
        "<img src=\"https://drive.google.com/uc?export=view&\n",
        "id=1QyKLKB7d79YANIb7q2myFY56ODxl5UJr\" width=80%>\n",
        "\n",
        "以下のセルの変数`file_name`を先ほどドラッグ&ドロップした画像ファイル名に書き換えて実行してください。  \n",
        "そうすると自分の選んだ画像について予測した結果を表示することができます。\n",
        "\n",
        "\n"
      ]
    },
    {
      "cell_type": "code",
      "metadata": {
        "id": "nZy5DW1N3qpX"
      },
      "source": [
        "# 画像のファイル名\n",
        "file_name = \"neko.jpg\" # ここのファイル名を自分が予測したい画像のファイル名に変更してください\n",
        "\n",
        "# 画像の行列化\n",
        "img_raw = tf.io.read_file(file_name)\n",
        "img_tensor = tf.image.decode_image(img_raw)\n",
        "# 画像のリサイズ\n",
        "img_resize = tf.image.resize(img_tensor, IMG_SIZE)\n",
        "img = (np.expand_dims(img_resize,0))\n",
        "img.shape\n",
        "\n",
        "# 予測\n",
        "prediction = model.predict(img)\n",
        "prediction = 0 if prediction < 0.5 else 1\n",
        "\n",
        "plt.figure(figsize=(5, 5))\n",
        "plt.imshow(img[0].astype(\"uint8\"))\n",
        "plt.title(\"prediction : \" + class_names[prediction])\n",
        "plt.axis(\"off\")"
      ],
      "execution_count": null,
      "outputs": []
    }
  ]
}